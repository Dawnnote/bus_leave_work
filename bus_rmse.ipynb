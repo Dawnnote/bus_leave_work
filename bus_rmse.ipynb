{
 "cells": [
  {
   "cell_type": "code",
   "execution_count": 2,
   "id": "e564d00c",
   "metadata": {},
   "outputs": [],
   "source": [
    "import pandas as pd\n",
    "import numpy as np\n",
    "from sklearn.tree import DecisionTreeRegressor\n",
    "from sklearn.ensemble import RandomForestRegressor\n",
    "from sklearn.model_selection import train_test_split, cross_val_score\n",
    "from sklearn.ensemble import RandomForestClassifier\n",
    "from sklearn.metrics import mean_squared_error\n",
    "\n",
    "from sklearn.model_selection import GridSearchCV"
   ]
  },
  {
   "cell_type": "markdown",
   "id": "1d10adfc",
   "metadata": {},
   "source": [
    "## 기본 데이터"
   ]
  },
  {
   "cell_type": "code",
   "execution_count": 62,
   "id": "9934fdd0",
   "metadata": {},
   "outputs": [],
   "source": [
    "train = pd.read_csv('data/train.csv')"
   ]
  },
  {
   "cell_type": "code",
   "execution_count": 64,
   "id": "d8b15e57",
   "metadata": {},
   "outputs": [],
   "source": [
    "X = train.drop(['18~20_ride', 'date', 'in_out', 'station_name'], axis = 1)\n",
    "y = train['18~20_ride']\n",
    "X_train, X_test, y_train, y_test = train_test_split(X, y, test_size = 0.2, random_state = 42)"
   ]
  },
  {
   "cell_type": "code",
   "execution_count": 65,
   "id": "e2b5d8e7",
   "metadata": {},
   "outputs": [
    {
     "name": "stdout",
     "output_type": "stream",
     "text": [
      "Negative MSE scores:  [-12.06 -10.43 -11.  ]\n",
      "개별 RMSE scores :  [3.47 3.23 3.32]\n",
      "평균 RMSE : 3.340\n"
     ]
    }
   ],
   "source": [
    "rf = RandomForestRegressor(random_state=42, n_estimators = 100)\n",
    "neg_mse_scores = cross_val_score(rf, X, y, scoring = \"neg_mean_squared_error\", cv=3, n_jobs=-1)\n",
    "rmse_scores = np.sqrt(-1 * neg_mse_scores)\n",
    "avg_rmse = np.mean(rmse_scores)\n",
    "\n",
    "print('Negative MSE scores: ', np.round(neg_mse_scores, 2))\n",
    "print('개별 RMSE scores : ', np.round(rmse_scores, 2))\n",
    "print('평균 RMSE : {0:.3f}'.format(avg_rmse))"
   ]
  },
  {
   "cell_type": "markdown",
   "id": "7fdcac85",
   "metadata": {},
   "source": [
    "- 3.340"
   ]
  },
  {
   "cell_type": "markdown",
   "id": "a5001aa4",
   "metadata": {},
   "source": [
    "## 시간 데이터 정보 추가 (ID 컬럼도 제거)"
   ]
  },
  {
   "cell_type": "code",
   "execution_count": 38,
   "id": "07e411f1",
   "metadata": {},
   "outputs": [],
   "source": [
    "train = pd.read_csv('data/train_time.csv', index_col=0) "
   ]
  },
  {
   "cell_type": "code",
   "execution_count": 39,
   "id": "4a34f555",
   "metadata": {},
   "outputs": [],
   "source": [
    "X = train.drop(['18~20_ride', 'id', 'date', 'in_out', 'station_name'], axis = 1)\n",
    "y = train['18~20_ride']\n",
    "X_train, X_test, y_train, y_test = train_test_split(X, y, test_size = 0.2, random_state = 42)"
   ]
  },
  {
   "cell_type": "code",
   "execution_count": 40,
   "id": "6c758fab",
   "metadata": {},
   "outputs": [
    {
     "name": "stdout",
     "output_type": "stream",
     "text": [
      "Negative MSE scores:  [-7.86 -9.36 -7.73]\n",
      "개별 RMSE scores :  [2.8  3.06 2.78]\n",
      "평균 RMSE : 2.881\n"
     ]
    }
   ],
   "source": [
    "rf = RandomForestRegressor(random_state=42, n_estimators = 100)\n",
    "neg_mse_scores = cross_val_score(rf, X, y, scoring = \"neg_mean_squared_error\", cv=3, n_jobs=-1)\n",
    "rmse_scores = np.sqrt(-1 * neg_mse_scores)\n",
    "avg_rmse = np.mean(rmse_scores)\n",
    "\n",
    "print('Negative MSE scores: ', np.round(neg_mse_scores, 2))\n",
    "print('개별 RMSE scores : ', np.round(rmse_scores, 2))\n",
    "print('평균 RMSE : {0:.3f}'.format(avg_rmse))"
   ]
  },
  {
   "cell_type": "markdown",
   "id": "fd00c901",
   "metadata": {},
   "source": [
    "- 2.881"
   ]
  },
  {
   "cell_type": "markdown",
   "id": "d992d833",
   "metadata": {},
   "source": [
    "## 날짜, 승하차인원(시간별), 노선ID, 정류장ID  전처리 추가"
   ]
  },
  {
   "cell_type": "code",
   "execution_count": 6,
   "id": "cac25d0c",
   "metadata": {},
   "outputs": [],
   "source": [
    "train = pd.read_csv('data/base_model.csv',  index_col=0)"
   ]
  },
  {
   "cell_type": "code",
   "execution_count": 53,
   "id": "5af5df10",
   "metadata": {},
   "outputs": [],
   "source": [
    "X = train.drop(['id', 'date', '18~20_ride','6~7_ride', '7~8_ride', '8~9_ride',\n",
    "       '9~10_ride', '10~11_ride', '11~12_ride', '6~7_takeoff', '7~8_takeoff',\n",
    "       '8~9_takeoff', '9~10_takeoff', '10~11_takeoff', '11~12_takeoff'], axis = 1)\n",
    "y = train['18~20_ride']"
   ]
  },
  {
   "cell_type": "code",
   "execution_count": 54,
   "id": "39f930c1",
   "metadata": {},
   "outputs": [],
   "source": [
    "X_train, X_test, y_train, y_test = train_test_split(X, y, test_size = 0.2, random_state = 42)"
   ]
  },
  {
   "cell_type": "code",
   "execution_count": 55,
   "id": "594d1583",
   "metadata": {},
   "outputs": [
    {
     "name": "stdout",
     "output_type": "stream",
     "text": [
      "Negative MSE scores:  [-7.32 -8.99 -7.32]\n",
      "개별 RMSE scores :  [2.71 3.   2.71]\n",
      "평균 RMSE : 2.803\n"
     ]
    }
   ],
   "source": [
    "rf = RandomForestRegressor(random_state=42, n_estimators = 100)\n",
    "neg_mse_scores = cross_val_score(rf, X, y, scoring = \"neg_mean_squared_error\", cv=3, n_jobs=-1)\n",
    "rmse_scores = np.sqrt(-1 * neg_mse_scores)\n",
    "avg_rmse = np.mean(rmse_scores)\n",
    "\n",
    "print('Negative MSE scores: ', np.round(neg_mse_scores, 2))\n",
    "print('개별 RMSE scores : ', np.round(rmse_scores, 2))\n",
    "print('평균 RMSE : {0:.3f}'.format(avg_rmse))"
   ]
  },
  {
   "cell_type": "markdown",
   "id": "f21a7b19",
   "metadata": {},
   "source": [
    "- 2.803"
   ]
  },
  {
   "cell_type": "markdown",
   "id": "7f89ee66",
   "metadata": {},
   "source": [
    "## 위,경도 거리차이 정보 추가"
   ]
  },
  {
   "cell_type": "code",
   "execution_count": 54,
   "id": "df17bae5",
   "metadata": {},
   "outputs": [],
   "source": [
    "train = pd.read_csv('data/train_lalo.csv',  index_col=0)"
   ]
  },
  {
   "cell_type": "code",
   "execution_count": 48,
   "id": "65e55552",
   "metadata": {},
   "outputs": [],
   "source": [
    "X = train.drop(['18~20_ride'], axis = 1)\n",
    "y = train['18~20_ride']"
   ]
  },
  {
   "cell_type": "code",
   "execution_count": 49,
   "id": "2a8d15eb",
   "metadata": {},
   "outputs": [],
   "source": [
    "X_train, X_test, y_train, y_test = train_test_split(X, y, test_size = 0.2, random_state = 42)"
   ]
  },
  {
   "cell_type": "code",
   "execution_count": 50,
   "id": "0e62a6eb",
   "metadata": {},
   "outputs": [
    {
     "name": "stdout",
     "output_type": "stream",
     "text": [
      "Negative MSE scores:  [-7.1 -8.8 -7.2]\n",
      "개별 RMSE scores :  [2.66 2.97 2.68]\n",
      "평균 RMSE : 2.772\n"
     ]
    }
   ],
   "source": [
    "rf = RandomForestRegressor(random_state=42, n_estimators = 100)\n",
    "neg_mse_scores = cross_val_score(rf, X, y, scoring = \"neg_mean_squared_error\", cv=3, n_jobs=-1)\n",
    "rmse_scores = np.sqrt(-1 * neg_mse_scores)\n",
    "avg_rmse = np.mean(rmse_scores)\n",
    "\n",
    "print('Negative MSE scores: ', np.round(neg_mse_scores, 2))\n",
    "print('개별 RMSE scores : ', np.round(rmse_scores, 2))\n",
    "print('평균 RMSE : {0:.3f}'.format(avg_rmse))"
   ]
  },
  {
   "cell_type": "markdown",
   "id": "875be904",
   "metadata": {},
   "source": [
    "- 2.772"
   ]
  },
  {
   "cell_type": "markdown",
   "id": "8b2c3607",
   "metadata": {},
   "source": [
    "## 요일별 18~20시 탑승 평균, 합 정보 추가"
   ]
  },
  {
   "cell_type": "code",
   "execution_count": 66,
   "id": "0620cfc0",
   "metadata": {},
   "outputs": [],
   "source": [
    "train = pd.read_csv('data/train_1820.csv',  index_col=0) "
   ]
  },
  {
   "cell_type": "code",
   "execution_count": 59,
   "id": "a3a34ac1",
   "metadata": {},
   "outputs": [],
   "source": [
    "X = train.drop(['18~20_ride'], axis = 1)\n",
    "y = train['18~20_ride']"
   ]
  },
  {
   "cell_type": "code",
   "execution_count": 60,
   "id": "8cbbffab",
   "metadata": {},
   "outputs": [],
   "source": [
    "X_train, X_test, y_train, y_test = train_test_split(X, y, test_size = 0.2, random_state = 42)"
   ]
  },
  {
   "cell_type": "code",
   "execution_count": 61,
   "id": "af808052",
   "metadata": {
    "scrolled": false
   },
   "outputs": [
    {
     "name": "stdout",
     "output_type": "stream",
     "text": [
      "Negative MSE scores:  [-6.81 -8.7  -6.85]\n",
      "개별 RMSE scores :  [2.61 2.95 2.62]\n",
      "평균 RMSE : 2.726\n"
     ]
    }
   ],
   "source": [
    "rf = RandomForestRegressor(random_state=42, n_estimators = 100)\n",
    "neg_mse_scores = cross_val_score(rf, X, y, scoring = \"neg_mean_squared_error\", cv=3, n_jobs=-1)\n",
    "rmse_scores = np.sqrt(-1 * neg_mse_scores)\n",
    "avg_rmse = np.mean(rmse_scores)\n",
    "\n",
    "print('Negative MSE scores: ', np.round(neg_mse_scores, 2))\n",
    "print('개별 RMSE scores : ', np.round(rmse_scores, 2))\n",
    "print('평균 RMSE : {0:.3f}'.format(avg_rmse))"
   ]
  },
  {
   "cell_type": "markdown",
   "id": "e8b550b9",
   "metadata": {},
   "source": [
    "- 2.726"
   ]
  }
 ],
 "metadata": {
  "kernelspec": {
   "display_name": "Python 3 (ipykernel)",
   "language": "python",
   "name": "python3"
  },
  "language_info": {
   "codemirror_mode": {
    "name": "ipython",
    "version": 3
   },
   "file_extension": ".py",
   "mimetype": "text/x-python",
   "name": "python",
   "nbconvert_exporter": "python",
   "pygments_lexer": "ipython3",
   "version": "3.9.13"
  }
 },
 "nbformat": 4,
 "nbformat_minor": 5
}
