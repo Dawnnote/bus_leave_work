{
 "cells": [
  {
   "cell_type": "code",
   "execution_count": 74,
   "id": "bed62f8e",
   "metadata": {},
   "outputs": [],
   "source": [
    "import pandas as pd\n",
    "import numpy as np\n",
    "import random\n",
    "from sklearn.model_selection import GridSearchCV\n",
    "from sklearn.ensemble import RandomForestRegressor\n",
    "from sklearn.model_selection import train_test_split\n",
    "from sklearn.linear_model import LinearRegression\n",
    "from sklearn.metrics import mean_squared_error\n",
    "\n",
    "import warnings\n",
    "warnings.filterwarnings('ignore')"
   ]
  },
  {
   "cell_type": "code",
   "execution_count": 4,
   "id": "28449310",
   "metadata": {},
   "outputs": [],
   "source": [
    "train = pd.read_csv('./data/bus_train2.csv')\n",
    "test = pd.read_csv('./data/bus_test2.csv')"
   ]
  },
  {
   "cell_type": "markdown",
   "id": "01579f96",
   "metadata": {},
   "source": [
    "# 데이콘 제출"
   ]
  },
  {
   "cell_type": "code",
   "execution_count": 20,
   "id": "395f2d40",
   "metadata": {},
   "outputs": [],
   "source": [
    "input_var=['bus_route_id', 'in_out', 'station_code', 'station_name', 'weekday_0', 'weekday_1', 'weekday_2', 'weekday_3', 'weekday_4',\n",
    "           'weekday_5', 'weekday_6', '6~8_ride', '8~10_ride', '10~12_ride', '6~8_takeoff', '8~10_takeoff', '10~12_takeoff',\n",
    "           'dis_jejusi', 'dis_seoquipo', 'dis_jeju', 'dis_gosan', 'dis_seongsan', 'dis_po', 'weekday', '1820_w_mean', '1820_w_sum']\n",
    "\n",
    "target=['18~20_ride']"
   ]
  },
  {
   "cell_type": "code",
   "execution_count": 21,
   "id": "42834095",
   "metadata": {
    "scrolled": true
   },
   "outputs": [
    {
     "data": {
      "text/plain": [
       "((4154, 26), (4154, 1))"
      ]
     },
     "execution_count": 21,
     "metadata": {},
     "output_type": "execute_result"
    }
   ],
   "source": [
    "X_train=train[input_var]\n",
    "random.seed(1217)\n",
    "train_list=random.sample(list(range(X_train.shape[0])), int(round(X_train.shape[0]*0.01,0)) )\n",
    "\n",
    "X_train=train[input_var]\n",
    "X_train=X_train.iloc[train_list,:]\n",
    "y_train=train[target]\n",
    "y_train=y_train.iloc[train_list,:]\n",
    "\n",
    "X_test=test[input_var]\n",
    "\n",
    "X_train.shape, y_train.shape"
   ]
  },
  {
   "cell_type": "code",
   "execution_count": 22,
   "id": "b8eb8b5c",
   "metadata": {},
   "outputs": [
    {
     "data": {
      "text/plain": [
       "{'max_features': 5,\n",
       " 'min_samples_leaf': 2,\n",
       " 'min_samples_split': 2,\n",
       " 'n_estimators': 100}"
      ]
     },
     "execution_count": 22,
     "metadata": {},
     "output_type": "execute_result"
    }
   ],
   "source": [
    "param_grid = {\n",
    "    'max_features': [2,3,5],\n",
    "    'min_samples_leaf': [2,3],\n",
    "    'min_samples_split': [2,4,6],\n",
    "    'n_estimators': [100, 200,500]\n",
    "}\n",
    "\n",
    "rf = RandomForestRegressor(random_state=1217) # 랜덤포레스트 모델을 정의한다.\n",
    "\n",
    "grid_search = GridSearchCV(estimator = rf, param_grid = param_grid) # GridSearchCV를 정의한다.\n",
    "\n",
    "grid_search.fit(X_train, y_train)\n",
    "\n",
    "grid_search.best_params_"
   ]
  },
  {
   "cell_type": "code",
   "execution_count": 23,
   "id": "5c483e4c",
   "metadata": {},
   "outputs": [
    {
     "data": {
      "text/plain": [
       "((415423, 26), (415423, 1), (228170, 26))"
      ]
     },
     "execution_count": 23,
     "metadata": {},
     "output_type": "execute_result"
    }
   ],
   "source": [
    "X_train=train[input_var]\n",
    "y_train=train[target]\n",
    "\n",
    "X_test=test[input_var]\n",
    "\n",
    "X_train.shape, y_train.shape, X_test.shape"
   ]
  },
  {
   "cell_type": "code",
   "execution_count": 25,
   "id": "280751bb",
   "metadata": {},
   "outputs": [],
   "source": [
    "rf = RandomForestRegressor(max_features=5,min_samples_leaf=2,min_samples_split=2,n_estimators=500,random_state=1217)\n",
    "\n",
    "rf.fit(X_train,y_train) #학습 \n",
    "\n",
    "test['18~20_ride'] = rf.predict(X_test) #예측값 생성 후, test['18~20_ride']에 집어 넣는다.\n",
    "\n",
    "test[['id','18~20_ride']].to_csv(\"rf_test.csv\",index=False)"
   ]
  }
 ],
 "metadata": {
  "kernelspec": {
   "display_name": "Python 3 (ipykernel)",
   "language": "python",
   "name": "python3"
  },
  "language_info": {
   "codemirror_mode": {
    "name": "ipython",
    "version": 3
   },
   "file_extension": ".py",
   "mimetype": "text/x-python",
   "name": "python",
   "nbconvert_exporter": "python",
   "pygments_lexer": "ipython3",
   "version": "3.9.13"
  }
 },
 "nbformat": 4,
 "nbformat_minor": 5
}  
